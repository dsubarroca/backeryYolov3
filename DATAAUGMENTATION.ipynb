{
 "cells": [
  {
   "cell_type": "markdown",
   "id": "27313e41",
   "metadata": {},
   "source": [
    "# Generador DATA AUGMENTATION\n"
   ]
  },
  {
   "cell_type": "markdown",
   "id": "596b9cd0",
   "metadata": {},
   "source": [
    "El siguiente código permite generar imágenes sintéticas a partir de imágenes naturales."
   ]
  },
  {
   "cell_type": "markdown",
   "id": "94912fb5",
   "metadata": {},
   "source": [
    "En el directorio c:/TRAIN se ubican las imágenes naturales. Tras aplicar la función de KERAS \"ImageDataGenerator\" los resultados se almacenan en el directorio c:/AUGFINAL."
   ]
  },
  {
   "cell_type": "markdown",
   "id": "7ce27408",
   "metadata": {},
   "source": [
    "Para cada imagen natural se generan 100 imágenes sintéticas, mediante la aplicando de los parámetros: rotation_range (grados re rotación = 5), shear_range (rango de recortes = 20%), zoom_range (rango de zoom = 20%) , horizontal_flip (voltear horizontalmente = SI) , vertical_flip (voltear verticalmente = SI) , width_shift_range (desplazamiento a lo ancho 20%), height_shift_range (desplazamiento a lo alto 20%)  y brightness_range (rango de variación brillo)."
   ]
  },
  {
   "cell_type": "code",
   "execution_count": 1,
   "id": "744da0db",
   "metadata": {},
   "outputs": [],
   "source": [
    "from keras.preprocessing.image import ImageDataGenerator\n",
    "from skimage import io\n",
    "datagen = ImageDataGenerator(        \n",
    "        rotation_range = 5,\n",
    "        shear_range = 0.2,\n",
    "        zoom_range = 0.2,\n",
    "        horizontal_flip = True,\n",
    "        vertical_flip = True,\n",
    "        fill_mode='reflect',\n",
    "        width_shift_range = 0.2,\n",
    "        height_shift_range = 0.2,\n",
    "        brightness_range = (0.1, 1.8))\n",
    "import numpy as np\n",
    "import os\n",
    "from PIL import Image\n",
    "image_directory = r'C:/TRAIN/'\n",
    "SIZE = 416\n",
    "dataset = []\n",
    "my_images = os.listdir(image_directory)\n",
    "for i, image_name in enumerate(my_images):    \n",
    "    if (image_name.split('.')[1] == 'jpg'):        \n",
    "        image = io.imread(image_directory + image_name)        \n",
    "        image = Image.fromarray(image, 'RGB')        \n",
    "        image = image.resize((SIZE,SIZE)) \n",
    "        dataset.append(np.array(image))\n",
    "x = np.array(dataset)\n",
    "i = 0\n",
    "for batch in datagen.flow(x, batch_size=16,\n",
    "                          save_to_dir= r'C:/AUGFINAL',\n",
    "                          save_prefix='dr',\n",
    "                          save_format='jpg'):    \n",
    "    i += 1    \n",
    "    if i > 100:        \n",
    "        break"
   ]
  },
  {
   "cell_type": "code",
   "execution_count": null,
   "id": "b68588fb",
   "metadata": {},
   "outputs": [],
   "source": []
  }
 ],
 "metadata": {
  "kernelspec": {
   "display_name": "Python 3 (ipykernel)",
   "language": "python",
   "name": "python3"
  },
  "language_info": {
   "codemirror_mode": {
    "name": "ipython",
    "version": 3
   },
   "file_extension": ".py",
   "mimetype": "text/x-python",
   "name": "python",
   "nbconvert_exporter": "python",
   "pygments_lexer": "ipython3",
   "version": "3.9.7"
  }
 },
 "nbformat": 4,
 "nbformat_minor": 5
}
