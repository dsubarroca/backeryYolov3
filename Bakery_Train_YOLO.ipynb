{
  "cells": [
    {
      "cell_type": "markdown",
      "metadata": {
        "id": "Ig5gpnebU-Pw"
      },
      "source": [
        "## 1. Set up the Repo and Google Colab \n",
        "First, make sure that this runtime uses a GPU. To do so, go to `Runtime` and then `Change runtime type` and under `Hardware accelerator` select `GPU`. Next, execute the following two cells to download the TrainYourOwnYOLO repo and set up the dependencies. You can also setup [Weights & Biases](https://wandb.ai/) by providing your WandB API key. If you don't want to use WandB, press Enter to skip the setup. It is important to **only run this cell once**.\n"
      ]
    },
    {
      "cell_type": "code",
      "execution_count": null,
      "metadata": {
        "id": "NOY70xLdOUFO"
      },
      "outputs": [],
      "source": [
        "to_run = True "
      ]
    },
    {
      "cell_type": "code",
      "execution_count": null,
      "metadata": {
        "colab": {
          "base_uri": "https://localhost:8080/"
        },
        "id": "qgcn8RFTNy2F",
        "outputId": "7432e014-c811-4927-8591-47f3e6be804d"
      },
      "outputs": [
        {
          "output_type": "stream",
          "name": "stdout",
          "text": [
            "\u001b[31mERROR: Could not open requirements file: [Errno 2] No such file or directory: 'requirements.txt'\u001b[0m\n"
          ]
        }
      ],
      "source": [
        "if to_run:\n",
        "  !git clone https://github.com/AntonMu/TrainYourOwnYOLO\n",
        "  %cd TrainYourOwnYOLO\n",
        "  !pip install -r requirements.txt\n",
        "  to_run = False\n",
        "  # !wandb login\n",
        " "
      ]
    },
    {
      "cell_type": "code",
      "execution_count": null,
      "metadata": {
        "colab": {
          "base_uri": "https://localhost:8080/"
        },
        "id": "bKC25EiM0wPO",
        "outputId": "14aceef0-ca93-4fab-d8cc-5962dcc284fc"
      },
      "outputs": [
        {
          "output_type": "stream",
          "name": "stdout",
          "text": [
            "Mounted at /content/drive\n"
          ]
        }
      ],
      "source": [
        "from google.colab import drive\n",
        "drive.mount('/content/drive')"
      ]
    },
    {
      "cell_type": "code",
      "execution_count": null,
      "metadata": {
        "colab": {
          "base_uri": "https://localhost:8080/"
        },
        "id": "WmLJo37GV7Xn",
        "outputId": "1632f468-79bf-4232-fc74-a2039d0290b0"
      },
      "outputs": [
        {
          "output_type": "stream",
          "name": "stdout",
          "text": [
            "\u001b[34m\u001b[1mwandb\u001b[0m: Appending key for api.wandb.ai to your netrc file: /root/.netrc\n"
          ]
        }
      ],
      "source": [
        "!wandb login 95da6816a238b68b20fedc9d090ab31bf0c0f066"
      ]
    },
    {
      "cell_type": "markdown",
      "metadata": {
        "id": "lk9vWcXoN4Y5"
      },
      "source": [
        "<a href=\"https://colab.research.google.com/github/AntonMu/TrainYourOwnYOLO/blob/master/TrainYourOwnYOLO.ipynb\" target=\"_parent\"><img src=\"https://colab.research.google.com/assets/colab-badge.svg\" alt=\"Open In Colab\"/></a>\n",
        "# TrainYourOwnYOLO: Building a Custom Object Detector from Scratch\n",
        "\n",
        "This work is licensed under a [Creative Commons Attribution 4.0 International\n",
        "License][cc-by]. This means that you are free to:\n",
        "\n",
        " * **Share** — copy and redistribute the material in any medium or format\n",
        " * **Adapt** — remix, transform, and build upon the material for any purpose, even commercially.\n",
        "\n",
        "Under the following terms:\n",
        "\n",
        " * **Attribution** \n",
        " \n",
        " Cite as:\n",
        " \n",
        "  ```\n",
        "  @misc{TrainYourOwnYOLO,\n",
        "     title = {TrainYourOwnYOLO: Building a Custom Object Detector from Scratch},\n",
        "     author = {Anton Muehlemann},\n",
        "     year = {2019},\n",
        "     url = {https://github.com/AntonMu/TrainYourOwnYOLO},\n",
        "     doi = {10.5281/zenodo.5112375}\n",
        "  }\n",
        "  ```\n",
        "If your work doesn't include a citation list, simply link this [github repo](https://github.com/AntonMu/TrainYourOwnYOLO)!\n",
        " \n",
        "[![CC BY 4.0][cc-by-image]][cc-by]\n",
        "\n",
        "[cc-by]: http://creativecommons.org/licenses/by/4.0/\n",
        "[cc-by-image]: https://i.creativecommons.org/l/by/4.0/88x31.png\n",
        "[cc-by-shield]: https://img.shields.io/badge/License-CC%20BY%204.0-lightgrey.svg\n"
      ]
    },
    {
      "cell_type": "markdown",
      "metadata": {
        "id": "fx_Y7JyITP8H"
      },
      "source": [
        "## 2. Train Your Own YOLO\n",
        "Next, we train the model on the data that we have annotated with VoTT. We first enter the Training directory and then download and convert the pre-trained weights. "
      ]
    },
    {
      "cell_type": "code",
      "execution_count": null,
      "metadata": {
        "colab": {
          "base_uri": "https://localhost:8080/"
        },
        "id": "hG3rdjStP1EX",
        "outputId": "bfca47c9-5480-4854-ce10-ddd77e52eadb"
      },
      "outputs": [
        {
          "output_type": "stream",
          "name": "stdout",
          "text": [
            "False\n",
            "notTINY\n"
          ]
        }
      ],
      "source": [
        "!python /content/drive/MyDrive/TrainYourOwnYOLO/2_Training/Download_and_Convert_YOLO_weights.py"
      ]
    },
    {
      "cell_type": "markdown",
      "metadata": {
        "id": "2_ixXl8QTrek"
      },
      "source": [
        "Next, start the training by running the training script. Depending on the amount of images you annotated it should take about 5-10 seconds for one epoch to complete. Overall, the training should not take more than 20 minutes to complete."
      ]
    },
    {
      "cell_type": "code",
      "execution_count": null,
      "metadata": {
        "id": "kK3rl-l_Yf5A"
      },
      "outputs": [],
      "source": [
        "\n",
        "!python /content/drive/MyDrive/TrainYourOwnYOLO/1_Image_Annotation/Convert_to_YOLO_format.py\n",
        "\n"
      ]
    },
    {
      "cell_type": "code",
      "execution_count": null,
      "metadata": {
        "id": "qRLEZ-E6Xw2o"
      },
      "outputs": [],
      "source": [
        "import tensorflow as tf"
      ]
    },
    {
      "cell_type": "code",
      "execution_count": null,
      "metadata": {
        "id": "wutjvw17Mx-k"
      },
      "outputs": [],
      "source": [
        "import os\n",
        "os.chdir('/content/drive/MyDrive')"
      ]
    },
    {
      "cell_type": "code",
      "execution_count": null,
      "metadata": {
        "colab": {
          "base_uri": "https://localhost:8080/",
          "height": 35
        },
        "id": "4w4rKrdSNEyx",
        "outputId": "c99893ef-961e-49f5-88e9-5ff5307398e2"
      },
      "outputs": [
        {
          "output_type": "execute_result",
          "data": {
            "text/plain": [
              "'/content/drive/MyDrive'"
            ],
            "application/vnd.google.colaboratory.intrinsic+json": {
              "type": "string"
            }
          },
          "metadata": {},
          "execution_count": 8
        }
      ],
      "source": [
        "os.getcwd()\n",
        "#devices = tf.config.experimental.list_physical_devices('GPU')\n",
        "#tf.config.experimental.set_memory_growth(devices[0], True)"
      ]
    },
    {
      "cell_type": "code",
      "execution_count": null,
      "metadata": {
        "id": "UDiFlKZPQGXa"
      },
      "outputs": [],
      "source": [
        "!python /content/drive/MyDrive/TrainYourOwnYOLO/2_Training/Train_YOLO.py"
      ]
    },
    {
      "cell_type": "code",
      "source": [
        "os.chdir('/content/TrainYourOwnYOLO')"
      ],
      "metadata": {
        "id": "ye6sr3NuabRX"
      },
      "execution_count": null,
      "outputs": []
    },
    {
      "cell_type": "markdown",
      "metadata": {
        "id": "BpsWhtiFA207"
      },
      "source": [
        "Let's look at the results in tensorboard."
      ]
    },
    {
      "cell_type": "code",
      "execution_count": null,
      "metadata": {
        "id": "Kr9rbxiT1uMO"
      },
      "outputs": [],
      "source": [
        "os.chdir('/content/drive/MyDrive')"
      ]
    },
    {
      "cell_type": "code",
      "execution_count": null,
      "metadata": {
        "id": "GQX0Oc44vTL3"
      },
      "outputs": [],
      "source": [
        "%load_ext tensorboard\n",
        "%tensorboard --logdir /content/drive/MyDrive/TrainYourOwnYOLO/Data/Model_Weights"
      ]
    },
    {
      "cell_type": "markdown",
      "metadata": {
        "id": "DIKOP9JFYM8Z"
      },
      "source": [
        "## 3 Run Inference\n",
        "Finally, let's test our trained model on some new images. "
      ]
    },
    {
      "cell_type": "code",
      "execution_count": null,
      "metadata": {
        "id": "dPtgm08xYn1r"
      },
      "outputs": [],
      "source": [
        "!python /content/drive/MyDrive/TrainYourOwnYOLO/3_Inference/Detector.py"
      ]
    },
    {
      "cell_type": "markdown",
      "metadata": {
        "id": "y7w2L_PCY5zJ"
      },
      "source": [
        "## Using Your Own Data\n",
        "\n",
        "### Option 1: Direct Upload\n",
        "\n",
        "To adapt this tutorial to your own use case you can upload the annotated training data directly to the training image folder:\n",
        "```\n",
        "/content/TrainYourOwnYOLO/Data/Source_Images/Training_Images/vott-csv-export\n",
        "```\n",
        "\n",
        "And upload your inference data to the test image folder:\n",
        "\n",
        "```\n",
        "/content/TrainYourOwnYOLO/Data/Source_Images/Test_Images\n",
        "```\n",
        "\n",
        "![alt text](https://drive.google.com/uc?export=view&id=1_Ig6WB9ONA7ZurqSWQNoCPdfsPfun-mo)\n",
        "\n",
        "\n",
        "\n",
        "\n"
      ]
    },
    {
      "cell_type": "markdown",
      "metadata": {
        "id": "_HvISVwScrug"
      },
      "source": [
        "### Option 2: Mount Your Google Drive\n",
        "You can also directly mount the data from your Google Drive and then sync all images to your desktop with [Google Drive Backup & Sync](https://support.google.com/drive/answer/2374987). If you are using this method, you need to specify the location of your test and train images as command line arguments when running `Train_YOLO.py` and `Detector.py`.  "
      ]
    },
    {
      "cell_type": "code",
      "execution_count": null,
      "metadata": {
        "id": "fjR6lnjeY5G6"
      },
      "outputs": [],
      "source": [
        "from google.colab import drive\n",
        "# uncomment the next line before running this cell\n",
        "# drive.mount('/content/drive')"
      ]
    },
    {
      "cell_type": "markdown",
      "metadata": {
        "id": "TgcPDOKucqkH"
      },
      "source": []
    }
  ],
  "metadata": {
    "accelerator": "GPU",
    "colab": {
      "collapsed_sections": [],
      "provenance": []
    },
    "kernelspec": {
      "display_name": "Python 3",
      "language": "python",
      "name": "python3"
    },
    "language_info": {
      "codemirror_mode": {
        "name": "ipython",
        "version": 3
      },
      "file_extension": ".py",
      "mimetype": "text/x-python",
      "name": "python",
      "nbconvert_exporter": "python",
      "pygments_lexer": "ipython3",
      "version": "3.7.7"
    }
  },
  "nbformat": 4,
  "nbformat_minor": 0
}